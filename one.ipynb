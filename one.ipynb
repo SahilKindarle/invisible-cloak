{
 "cells": [
  {
   "cell_type": "code",
   "execution_count": 1,
   "metadata": {},
   "outputs": [],
   "source": [
    "import numpy as np\n",
    "import cv2\n",
    "import time"
   ]
  },
  {
   "cell_type": "code",
   "execution_count": 3,
   "metadata": {},
   "outputs": [],
   "source": [
    "cap = cv2.VideoCapture(0) # Connected to webcam, \"(0)\" means the first webvcam connected to laptop or device. YOu can run this program on a vide as well just pass the path to video in brackets in place of 0 like (\"voide.mp4\")\n",
    "\n",
    "\n",
    "time.sleep(2) #takes 2 sec to setuo anadjust envionment\n",
    "\n",
    "\n",
    "background=0 #Capturing the background\n",
    "\n",
    "\n",
    "for i in range(20): #20 iterations are passed in order to get 20 images of steady background\n",
    "\n",
    "    ret, background = cap.read() #Reading the background using video caputure object, ret is a boolean it tells whether it get the input or not\n",
    "\n",
    "\n",
    "while(cap.isOpened()):\n",
    "\n",
    "    ret, img = cap.read() #Getting every single frame and every command below eill get executed, ret is a boolean it tells whether it get the input or not\n",
    "\n",
    "    if not ret: # it executes when ret is false that means when it does not gets input i.e thw python program is closed\n",
    "\n",
    "        break; \n",
    "\n",
    "    hsv = cv2.cvtColor(img, cv2.COLOR_BGR2HSV)\n",
    "    lower_red = np.array([0, 120, 70])\n",
    "    upper_red = np.array([10, 255, 255])\n",
    "    mask1 = cv2.inRange(hsv, lower_red, upper_red)\n",
    "\n",
    "    hsv = cv2.cvtColor(img, cv2.COLOR_BGR2HSV)\n",
    "    lower_red = np.array([170, 120, 70])\n",
    "    upper_red = np.array([180, 255, 255])\n",
    "    mask1 = cv2.inRange(hsv, lower_red, upper_red)\n",
    "\n",
    "    mask = mask1 + mask2\n",
    "\n",
    "    mask1 = cv2.morphologyEx(mask1, cv2.MORPH_OPEN, np.ones((3,3), np.uint8), iteration=2)\n",
    "\n",
    "    mask1 = cv2.morphologyEx(mask1, cv2.MORPH_DILATE, np.ones((3,3), np.uint8), iteration=1)\n",
    "\n",
    "    mask2 = cv2.bitwise_not(mask1)\n",
    "\n",
    "    res1 = cv2.bitwise_and(background, background, mask=mask1)\n",
    "    res2 = cv2.bitwise_and(img, img, mask=mask2)\n",
    "\n",
    "    final_output = cv2.addWeighted(res1,1,res2,1, 0)\n",
    "\n",
    "    cv2.imshow(\"Sahil Here\", final_output)\n",
    "    k = cv2.waitKey(10)\n",
    "\n",
    "    if k == 27:\n",
    "        break\n",
    "\n",
    "    cap.release()\n",
    "    cv2.destroyAllWindows"
   ]
  },
  {
   "cell_type": "code",
   "execution_count": null,
   "metadata": {},
   "outputs": [],
   "source": []
  }
 ],
 "metadata": {
  "language_info": {
   "codemirror_mode": {
    "name": "ipython",
    "version": 3
   },
   "file_extension": ".py",
   "mimetype": "text/x-python",
   "name": "python",
   "nbconvert_exporter": "python",
   "pygments_lexer": "ipython3",
   "version": 3
  },
  "orig_nbformat": 2,
  "kernelspec": {
   "name": "python_defaultSpec_1594907790378",
   "display_name": "Python 3.8.3 64-bit"
  }
 },
 "nbformat": 4,
 "nbformat_minor": 2
}